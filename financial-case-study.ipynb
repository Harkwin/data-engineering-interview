{
 "cells": [
  {
   "cell_type": "code",
   "execution_count": null,
   "id": "e9f4e0a1-ed5c-44c3-bc53-fdb11dc500e4",
   "metadata": {},
   "outputs": [],
   "source": [
    "import yfinance as yf  \n",
    "import pandas as pd\n",
    "import numpy as np\n",
    "from datetime import datetime  \n",
    "import seaborn as sns\n",
    "from matplotlib import pyplot as plt\n",
    "\n",
    "end = datetime(2023, 1, 1)\n",
    "start = datetime(end.year - 1, end.month, end.day)  \n",
    "\n",
    "apple_df = yf.download('AAPL', start, end)  \n",
    "apple_df['company_name'] = 'Apple'  \n",
    "google_df = yf.download('GOOG', start, end)  \n",
    "google_df['company_name'] = 'Google'  \n",
    "amazon_df = yf.download('AMZN', start, end)  \n",
    "amazon_df['company_name'] = 'Amazon'  \n",
    "microsoft_df = yf.download('MSFT', start, end)  \n",
    "microsoft_df['company_name'] = 'Microsoft'  \n",
    "\n",
    "df = pd.concat([apple_df, google_df, amazon_df, microsoft_df])  \n",
    "df = df.reset_index()\n",
    "df.head()"
   ]
  },
  {
   "cell_type": "markdown",
   "id": "66e078bc-1429-49ee-b759-bf31ae9b22f4",
   "metadata": {},
   "source": [
    "1. What was the change in price of each stock over time?"
   ]
  },
  {
   "cell_type": "code",
   "execution_count": null,
   "id": "7cf99284-c6ee-4433-9624-2226b6c9a5cd",
   "metadata": {},
   "outputs": [],
   "source": []
  },
  {
   "cell_type": "markdown",
   "id": "34c986fc-f135-4bd7-9f09-2eb35876b9a2",
   "metadata": {},
   "source": [
    "2. What was the daily return of each stock on average?"
   ]
  },
  {
   "cell_type": "code",
   "execution_count": null,
   "id": "8dfd9b38-2f3f-4329-90b9-645d5dab3d7f",
   "metadata": {},
   "outputs": [],
   "source": []
  },
  {
   "cell_type": "markdown",
   "id": "6a93b2f2-2948-4d79-8d3e-a789fcc4293e",
   "metadata": {},
   "source": [
    "3. What was the moving average of the various stocks?"
   ]
  },
  {
   "cell_type": "code",
   "execution_count": null,
   "id": "84280b2f-8b6d-4990-9806-cd64122003c1",
   "metadata": {},
   "outputs": [],
   "source": []
  },
  {
   "cell_type": "markdown",
   "id": "90608880-e120-4f15-ade6-3250f39994e3",
   "metadata": {},
   "source": [
    "4. How much value do we put at risk by investing in a particular stock?"
   ]
  },
  {
   "cell_type": "code",
   "execution_count": null,
   "id": "c67c2416-d94a-4ad5-af69-0ba21b5efd46",
   "metadata": {},
   "outputs": [],
   "source": []
  },
  {
   "cell_type": "markdown",
   "id": "c4d56382-8fe2-4524-9171-a90b49fb7ca7",
   "metadata": {},
   "source": [
    "5. What was the correlation between different stocks?"
   ]
  },
  {
   "cell_type": "code",
   "execution_count": null,
   "id": "1d1168ae-5c45-4a1d-883e-cacbcfe4b5e9",
   "metadata": {},
   "outputs": [],
   "source": []
  }
 ],
 "metadata": {
  "kernelspec": {
   "display_name": "Python 3 (ipykernel)",
   "language": "python",
   "name": "python3"
  },
  "language_info": {
   "codemirror_mode": {
    "name": "ipython",
    "version": 3
   },
   "file_extension": ".py",
   "mimetype": "text/x-python",
   "name": "python",
   "nbconvert_exporter": "python",
   "pygments_lexer": "ipython3",
   "version": "3.9.18"
  }
 },
 "nbformat": 4,
 "nbformat_minor": 5
}
